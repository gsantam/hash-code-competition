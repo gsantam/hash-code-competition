{
 "cells": [
  {
   "cell_type": "code",
   "execution_count": 2,
   "metadata": {
    "collapsed": true
   },
   "outputs": [],
   "source": [
    "from utils.input_parser import InputParser\n",
    "from utils.output_exporter import OutputExporter\n",
    "from solver import Solver\n",
    "\n",
    "\n",
    "input_parser = InputParser('inputs/kittens.in.txt')\n",
    "input_parser.parse()"
   ]
  },
  {
   "cell_type": "code",
   "execution_count": 3,
   "metadata": {},
   "outputs": [],
   "source": [
    "endpoints_videos = dict()\n",
    "for request in input_parser.requests:\n",
    "    if request['idx_endpoint'] not in endpoints_videos:\n",
    "        endpoints_videos[request['idx_endpoint']] = dict()\n",
    "    endpoints_videos[request['idx_endpoint']][request['idx_video']] = request['n_requests']"
   ]
  },
  {
   "cell_type": "code",
   "execution_count": 8,
   "metadata": {},
   "outputs": [],
   "source": [
    "idx_endpoints_of_video_cache = dict()\n",
    "for endpoint in input_parser.endpoints:\n",
    "    for cache in input_parser.endpoints[endpoint][\"caches\"]:\n",
    "        for video in endpoints_videos[endpoint]:\n",
    "            if (video,cache) not in idx_endpoints_of_video_cache:\n",
    "                idx_endpoints_of_video_cache[(video,cache)] = list()\n",
    "            \n",
    "            #idx_endpoints_of_video_cache[(video,cache)][endpoint] = 0"
   ]
  },
  {
   "cell_type": "code",
   "execution_count": 7,
   "metadata": {},
   "outputs": [
    {
     "data": {
      "text/plain": [
       "4999885"
      ]
     },
     "execution_count": 7,
     "metadata": {},
     "output_type": "execute_result"
    }
   ],
   "source": [
    "len(idx_endpoints_of_video_cache)"
   ]
  },
  {
   "cell_type": "code",
   "execution_count": null,
   "metadata": {
    "collapsed": true
   },
   "outputs": [],
   "source": [
    "endpoint_caches = []\n",
    "for endpoint in input_parser.endpoints:\n",
    "    for cache in input_parser.endpoints[endpoint][\"caches\"]:\n",
    "        endpoint_caches.append({\"cache_idx\":cache,\"cache_latency\":input_parser.endpoints[endpoint][\"caches\"][cache],\"idx_endpoint\":endpoint,\"datacenter_latency\":input_parser.endpoints[endpoint][\"datacenter_latency\"]})"
   ]
  },
  {
   "cell_type": "code",
   "execution_count": null,
   "metadata": {},
   "outputs": [],
   "source": [
    "input_parser.endpoints[endpoint][\"caches\"]"
   ]
  },
  {
   "cell_type": "code",
   "execution_count": null,
   "metadata": {},
   "outputs": [],
   "source": []
  },
  {
   "cell_type": "code",
   "execution_count": null,
   "metadata": {
    "collapsed": true
   },
   "outputs": [],
   "source": [
    "idx_endpoints_of_video_cache = dict()\n",
    "for endpoint_cache in endpoint_caches:\n",
    "    for request in input_parser.requests:\n",
    "        "
   ]
  },
  {
   "cell_type": "code",
   "execution_count": null,
   "metadata": {
    "collapsed": true
   },
   "outputs": [],
   "source": [
    "len()"
   ]
  },
  {
   "cell_type": "code",
   "execution_count": null,
   "metadata": {},
   "outputs": [],
   "source": [
    "input_parser.requests[0:10]"
   ]
  },
  {
   "cell_type": "code",
   "execution_count": null,
   "metadata": {
    "collapsed": true
   },
   "outputs": [],
   "source": [
    "import pandas as pd\n",
    "\n",
    "requests_df = pd.DataFrame(input_parser.requests)\n"
   ]
  },
  {
   "cell_type": "code",
   "execution_count": null,
   "metadata": {},
   "outputs": [],
   "source": [
    "requests_df.head()"
   ]
  },
  {
   "cell_type": "code",
   "execution_count": null,
   "metadata": {
    "collapsed": true
   },
   "outputs": [],
   "source": [
    "endpoint_cache = []\n",
    "for endpoint in input_parser.endpoints:\n",
    "    for cache in input_parser.endpoints[endpoint][\"caches\"]:\n",
    "        endpoint_cache.append({\"cache_idx\":cache,\"cache_latency\":input_parser.endpoints[endpoint][\"caches\"][cache],\"idx_endpoint\":endpoint,\"datacenter_latency\":input_parser.endpoints[endpoint][\"datacenter_latency\"]})"
   ]
  },
  {
   "cell_type": "code",
   "execution_count": null,
   "metadata": {},
   "outputs": [],
   "source": [
    "endpoint_cache[0]"
   ]
  },
  {
   "cell_type": "code",
   "execution_count": null,
   "metadata": {
    "collapsed": true
   },
   "outputs": [],
   "source": [
    "endpoint_df = pd.DataFrame(endpoint_cache)\n",
    "merged_videos_caches = pd.merge(requests_df,endpoint_df,on=\"idx_endpoint\",how = \"outer\")"
   ]
  },
  {
   "cell_type": "code",
   "execution_count": null,
   "metadata": {},
   "outputs": [],
   "source": [
    "merged_videos_caches.head()"
   ]
  },
  {
   "cell_type": "code",
   "execution_count": null,
   "metadata": {
    "collapsed": true
   },
   "outputs": [],
   "source": [
    "video_df = pd.DataFrame().from_dict(input_parser.videos,orient = \"index\").reset_index()\n",
    "video_df = video_df.rename(columns = {\"index\":\"idx_video\",0:\"size_video\"})"
   ]
  },
  {
   "cell_type": "code",
   "execution_count": null,
   "metadata": {
    "collapsed": true
   },
   "outputs": [],
   "source": [
    "merged_videos_caches = pd.merge(merged_videos_caches,video_df,on = \"idx_video\")"
   ]
  },
  {
   "cell_type": "code",
   "execution_count": null,
   "metadata": {},
   "outputs": [],
   "source": [
    "merged_videos_caches.head()"
   ]
  },
  {
   "cell_type": "code",
   "execution_count": null,
   "metadata": {},
   "outputs": [],
   "source": [
    "len(merged_videos_caches)"
   ]
  },
  {
   "cell_type": "code",
   "execution_count": null,
   "metadata": {
    "collapsed": true
   },
   "outputs": [],
   "source": [
    "merged_videos_caches[\"score\"] = merged_videos_caches[\"n_requests\"]*(merged_videos_caches[\"datacenter_latency\"]- merged_videos_caches[\"cache_latency\"])/merged_videos_caches[\"size_video\"]"
   ]
  },
  {
   "cell_type": "code",
   "execution_count": null,
   "metadata": {},
   "outputs": [],
   "source": [
    "merged_videos_caches_ = merged_videos_caches.to_dict()"
   ]
  },
  {
   "cell_type": "code",
   "execution_count": null,
   "metadata": {},
   "outputs": [],
   "source": [
    "idx_endpoint_of_video_cache = dict()\n",
    "for i in range(len(merged_videos_caches)):\n",
    "    if i%100000==0:\n",
    "        print(i)\n",
    "    video = merged_videos_caches.idx_video[i]\n",
    "    cache = merged_videos_caches.cache_idx[i]\n",
    "    if (video,cache) not in idx_endpoint_of_video_cache:\n",
    "        idx_endpoint_of_video_cache[(video,cache)] = set()\n",
    "    idx_endpoint_of_video_cache[(video,cache)].add(merged_videos_caches.idx_endpoint[i])\n",
    "    "
   ]
  },
  {
   "cell_type": "code",
   "execution_count": null,
   "metadata": {
    "collapsed": true
   },
   "outputs": [],
   "source": []
  },
  {
   "cell_type": "code",
   "execution_count": null,
   "metadata": {},
   "outputs": [],
   "source": [
    "i"
   ]
  },
  {
   "cell_type": "code",
   "execution_count": null,
   "metadata": {},
   "outputs": [],
   "source": [
    "merged_videos_caches.idx_video[100]"
   ]
  },
  {
   "cell_type": "code",
   "execution_count": null,
   "metadata": {
    "collapsed": true
   },
   "outputs": [],
   "source": [
    "a = merged_videos_caches.size_video"
   ]
  },
  {
   "cell_type": "code",
   "execution_count": null,
   "metadata": {
    "collapsed": true
   },
   "outputs": [],
   "source": [
    "b = list(a)"
   ]
  },
  {
   "cell_type": "code",
   "execution_count": null,
   "metadata": {},
   "outputs": [],
   "source": [
    "a[1000]"
   ]
  },
  {
   "cell_type": "code",
   "execution_count": null,
   "metadata": {
    "collapsed": true
   },
   "outputs": [],
   "source": [
    "merged_videos_caches_score = merged_videos_caches.groupby([\"idx_video\",\"cache_idx\"])[\"score\"].sum().reset_index()"
   ]
  },
  {
   "cell_type": "code",
   "execution_count": null,
   "metadata": {},
   "outputs": [],
   "source": [
    "len(merged_videos_caches_score)"
   ]
  },
  {
   "cell_type": "code",
   "execution_count": null,
   "metadata": {},
   "outputs": [],
   "source": [
    "merged_videos_caches_score"
   ]
  },
  {
   "cell_type": "code",
   "execution_count": null,
   "metadata": {
    "collapsed": true
   },
   "outputs": [],
   "source": [
    "idx_video_ls = list(merged_videos_caches_score[\"idx_video\"])\n",
    "cache_idx_ls = list(merged_videos_caches_score[\"cache_idx\"])\n",
    "score_ls = list(merged_videos_caches_score[\"score\"])"
   ]
  },
  {
   "cell_type": "code",
   "execution_count": null,
   "metadata": {
    "collapsed": true
   },
   "outputs": [],
   "source": [
    "caches_of_videos = dict()"
   ]
  },
  {
   "cell_type": "code",
   "execution_count": null,
   "metadata": {
    "collapsed": true
   },
   "outputs": [],
   "source": [
    "from pqdict import pqdict\n",
    "\n",
    "merged_videos_caches_score_dict = pqdict({},reverse=True)\n",
    "for i in range(len(idx_video_ls)):\n",
    "    merged_videos_caches_score_dict[(idx_video_ls[i],cache_idx_ls[i])] = score_ls[i]\n",
    "    if idx_video_ls[i] not in caches_of_videos:\n",
    "        caches_of_videos[idx_video_ls[i]] = []\n",
    "    caches_of_videos[idx_video_ls[i]].append(cache_idx_ls[i])"
   ]
  },
  {
   "cell_type": "code",
   "execution_count": null,
   "metadata": {
    "collapsed": true
   },
   "outputs": [],
   "source": [
    "video_cache = merged_videos_caches_score_dict.top()\n",
    "idx_video = video_cache[0]\n",
    "cache_idx = video_cache[1]\n"
   ]
  },
  {
   "cell_type": "code",
   "execution_count": null,
   "metadata": {
    "collapsed": true
   },
   "outputs": [],
   "source": [
    "merged_videos_caches_ = merged_videos_caches[merged_videos_caches.idx_video == idx_video]\n"
   ]
  },
  {
   "cell_type": "code",
   "execution_count": null,
   "metadata": {
    "collapsed": true
   },
   "outputs": [],
   "source": [
    "selected_enpoints = merged_videos_caches_[merged_videos_caches_.cache_idx ==cache_idx ][[\"idx_endpoint\",\"score\"]]\n",
    "selected_enpoints = selected_enpoints.rename(columns = {\"score\":\"score_with_this_cache\"})"
   ]
  },
  {
   "cell_type": "code",
   "execution_count": null,
   "metadata": {
    "collapsed": true
   },
   "outputs": [],
   "source": [
    "merged_videos_caches_ = pd.merge(merged_videos_caches_,selected_enpoints,on = \"idx_endpoint\")\n",
    "merged_videos_caches_[]"
   ]
  },
  {
   "cell_type": "code",
   "execution_count": null,
   "metadata": {
    "collapsed": true
   },
   "outputs": [],
   "source": [
    "merged_videos_caches_[[\"diff\"]]"
   ]
  },
  {
   "cell_type": "code",
   "execution_count": null,
   "metadata": {},
   "outputs": [],
   "source": [
    "merged_videos_caches_[merged_videos_caches_.score_with_this_cache==merged_videos_caches_.score]"
   ]
  },
  {
   "cell_type": "code",
   "execution_count": null,
   "metadata": {},
   "outputs": [],
   "source": [
    "merged_videos_caches_ = merged_videos_caches_[merged_videos_caches_.idx_endpoint.isin(selected_enpoints.idx_endpoint)]\n",
    "merged_videos_caches_ = merged_videos_caches_.to_dict(orient = \"records\")\n",
    "selected_enpoints = selected_enpoints.set_index(\"idx_endpoint\")\n",
    "selected_enpoints = selected_enpoints.to_dict(orient= \"index\")"
   ]
  },
  {
   "cell_type": "code",
   "execution_count": null,
   "metadata": {},
   "outputs": [],
   "source": [
    "selected_enpoints"
   ]
  },
  {
   "cell_type": "code",
   "execution_count": null,
   "metadata": {
    "collapsed": true
   },
   "outputs": [],
   "source": [
    "for merged_video in merged_videos_caches_\n",
    "    merged_videos_caches_score_dict[(merged_video[\"idx_video\"],merged_video[\"cache_idx\"])] = min(merged_videos_caches_score_dict[(merged_video[\"idx_video\"],merged_video[\"cache_idx\"])],)"
   ]
  },
  {
   "cell_type": "code",
   "execution_count": null,
   "metadata": {},
   "outputs": [],
   "source": [
    "merged_videos_caches_"
   ]
  },
  {
   "cell_type": "code",
   "execution_count": null,
   "metadata": {
    "collapsed": true
   },
   "outputs": [],
   "source": [
    "videos_in_cache = dict()\n",
    "\n",
    "while True:\n",
    "    i = 0\n",
    "    video_cache_score = videos_caches_score[i]\n",
    "    while cache_storage[video_cache_score[\"cache_idx\"]] + input_parser.videos[video_cache_score[\"idx_video\"]]  > input_parser.cache_capacity:\n",
    "        i+=1\n",
    "    if video_cache_score[\"cache_idx\"] not in videos_in_cache:\n",
    "        videos_in_cache[video_cache_score[\"cache_idx\"]] == list()\n",
    "    videos_in_cache[video_cache_score[\"cache_idx\"]].append(video_cache_score[\"idx_video\"])\n",
    "    cache_storage[video_cache_score[\"cache_idx\"]]+= input_parser.videos[video_cache_score[\"idx_video\"]]"
   ]
  }
 ],
 "metadata": {
  "kernelspec": {
   "display_name": "Python 3",
   "language": "python",
   "name": "python3"
  },
  "language_info": {
   "codemirror_mode": {
    "name": "ipython",
    "version": 3
   },
   "file_extension": ".py",
   "mimetype": "text/x-python",
   "name": "python",
   "nbconvert_exporter": "python",
   "pygments_lexer": "ipython3",
   "version": "3.6.4"
  }
 },
 "nbformat": 4,
 "nbformat_minor": 2
}
