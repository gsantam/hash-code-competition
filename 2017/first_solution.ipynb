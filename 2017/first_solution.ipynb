{
 "cells": [
  {
   "cell_type": "code",
   "execution_count": 1,
   "metadata": {
    "collapsed": true
   },
   "outputs": [],
   "source": [
    "from utils.input_parser import InputParser\n",
    "from utils.output_parser import OutputParser\n",
    "from solver import Solver\n",
    "\n",
    "\n",
    "input_parser = InputParser('inputs/kittens.in.txt')\n",
    "input_parser.parse()"
   ]
  },
  {
   "cell_type": "code",
   "execution_count": 2,
   "metadata": {},
   "outputs": [],
   "source": [
    "import pandas as pd\n",
    "\n",
    "requests_df = pd.DataFrame(input_parser.requests)"
   ]
  },
  {
   "cell_type": "code",
   "execution_count": 3,
   "metadata": {},
   "outputs": [],
   "source": [
    "endpoint_cache = []\n",
    "for endpoint in input_parser.endpoints:\n",
    "    for cache in input_parser.endpoints[endpoint][\"caches\"]:\n",
    "        endpoint_cache.append({\"cache_idx\":cache,\"cache_latency\":input_parser.endpoints[endpoint][\"caches\"][cache],\"idx_endpoint\":endpoint,\"datacenter_latency\":input_parser.endpoints[endpoint][\"datacenter_latency\"]})"
   ]
  },
  {
   "cell_type": "code",
   "execution_count": null,
   "metadata": {},
   "outputs": [],
   "source": [
    "#endpoint_df_dc_latency = endpoint_df.drop_duplicates([\"idx_endpoint\"])[[\"idx_endpoint\",\"datacenter_latency\"]]"
   ]
  },
  {
   "cell_type": "code",
   "execution_count": 32,
   "metadata": {},
   "outputs": [],
   "source": [
    "#requests_df = pd.merge(requests_df,endpoint_df_dc_latency,on = \"idx_endpoint\")"
   ]
  },
  {
   "cell_type": "code",
   "execution_count": 8,
   "metadata": {},
   "outputs": [],
   "source": [
    "endpoint_df = pd.DataFrame(endpoint_cache)\n",
    "merged_videos_caches = pd.merge(requests_df,endpoint_df,on=\"idx_endpoint\",how = \"outer\")"
   ]
  },
  {
   "cell_type": "code",
   "execution_count": 30,
   "metadata": {},
   "outputs": [],
   "source": [
    "video_df= pd.DataFrame().from_dict(input_parser.videos,orient = \"index\").reset_index()\n",
    "video_df= video_df.rename(columns = {\"index\":\"idx_video\"})"
   ]
  },
  {
   "cell_type": "code",
   "execution_count": 33,
   "metadata": {},
   "outputs": [],
   "source": [
    "merged_videos_caches = pd.merge(merged_videos_caches,video_df,on = \"idx_video\")"
   ]
  },
  {
   "cell_type": "code",
   "execution_count": 35,
   "metadata": {
    "collapsed": true
   },
   "outputs": [],
   "source": [
    "merged_videos_caches[\"score\"] = merged_videos_caches[\"size\"]*(merged_videos_caches[\"datacenter_latency\"]- merged_videos_caches[\"cache_latency\"])/merged_videos_caches[0]"
   ]
  },
  {
   "cell_type": "code",
   "execution_count": 40,
   "metadata": {},
   "outputs": [],
   "source": [
    "merged_videos_caches_score = merged_videos_caches.groupby([\"idx_video\",\"cache_idx\"])[\"score\"].sum().reset_index()"
   ]
  },
  {
   "cell_type": "code",
   "execution_count": 41,
   "metadata": {},
   "outputs": [],
   "source": [
    "merged_videos_caches_score= merged_videos_caches_score.sort_values([\"score\"],ascending = False)"
   ]
  },
  {
   "cell_type": "code",
   "execution_count": 42,
   "metadata": {},
   "outputs": [],
   "source": [
    "cache_storage = {x:0 for x in endpoint_df.drop_duplicates([\"cache_idx\"])[\"cache_idx\"]}"
   ]
  },
  {
   "cell_type": "code",
   "execution_count": null,
   "metadata": {
    "collapsed": true
   },
   "outputs": [],
   "source": [
    "videos_in_cache = dict()\n",
    "while True:\n",
    "    i = 0\n",
    "    video_cache_score = videos_caches_score[i]\n",
    "    while cache_storage[video_cache_score[\"cache_idx\"]] + input_parser.videos[video_cache_score[\"idx_video\"]]  > input_parser.cache_capacity:\n",
    "        i+=1\n",
    "    if video_cache_score[\"cache_idx\"] not in videos_in_cache:\n",
    "        videos_in_cache[video_cache_score[\"cache_idx\"]] == list()\n",
    "    videos_in_cache[video_cache_score[\"cache_idx\"]].append(video_cache_score[\"idx_video\"])\n",
    "    cache_storage[video_cache_score[\"cache_idx\"]]+= input_parser.videos[video_cache_score[\"idx_video\"]]\n",
    "    \n",
    "    \n",
    "    "
   ]
  },
  {
   "cell_type": "code",
   "execution_count": null,
   "metadata": {},
   "outputs": [],
   "source": [
    "merged_videos_caches_sum = merged_videos_caches.groupby([\"idx_video\",\"cache_idx\",\"size\"])[\"score\"].sum()"
   ]
  }
 ],
 "metadata": {
  "kernelspec": {
   "display_name": "Python 3",
   "language": "python",
   "name": "python3"
  },
  "language_info": {
   "codemirror_mode": {
    "name": "ipython",
    "version": 3
   },
   "file_extension": ".py",
   "mimetype": "text/x-python",
   "name": "python",
   "nbconvert_exporter": "python",
   "pygments_lexer": "ipython3",
   "version": "3.6.4"
  }
 },
 "nbformat": 4,
 "nbformat_minor": 2
}
